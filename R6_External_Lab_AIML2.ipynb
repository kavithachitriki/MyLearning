{
  "nbformat": 4,
  "nbformat_minor": 0,
  "metadata": {
    "kernelspec": {
      "display_name": "Python 3",
      "language": "python",
      "name": "python3"
    },
    "language_info": {
      "codemirror_mode": {
        "name": "ipython",
        "version": 3
      },
      "file_extension": ".py",
      "mimetype": "text/x-python",
      "name": "python",
      "nbconvert_exporter": "python",
      "pygments_lexer": "ipython3",
      "version": "3.7.3"
    },
    "colab": {
      "name": "R6_External_Lab_AIML2.ipynb",
      "provenance": [],
      "collapsed_sections": [],
      "toc_visible": true
    }
  },
  "cells": [
    {
      "cell_type": "code",
      "metadata": {
        "id": "KtJJ_HJTFlAG",
        "colab_type": "code",
        "outputId": "e78d7795-22f1-473b-b396-5a56089c3278",
        "colab": {
          "base_uri": "https://localhost:8080/",
          "height": 978
        }
      },
      "source": [
        "!pip install tensorflow==2.0"
      ],
      "execution_count": 0,
      "outputs": [
        {
          "output_type": "stream",
          "text": [
            "Collecting tensorflow==2.0\n",
            "\u001b[?25l  Downloading https://files.pythonhosted.org/packages/46/0f/7bd55361168bb32796b360ad15a25de6966c9c1beb58a8e30c01c8279862/tensorflow-2.0.0-cp36-cp36m-manylinux2010_x86_64.whl (86.3MB)\n",
            "\u001b[K     |████████████████████████████████| 86.3MB 70kB/s \n",
            "\u001b[?25hRequirement already satisfied: keras-applications>=1.0.8 in /usr/local/lib/python3.6/dist-packages (from tensorflow==2.0) (1.0.8)\n",
            "Requirement already satisfied: opt-einsum>=2.3.2 in /usr/local/lib/python3.6/dist-packages (from tensorflow==2.0) (3.1.0)\n",
            "Requirement already satisfied: wrapt>=1.11.1 in /usr/local/lib/python3.6/dist-packages (from tensorflow==2.0) (1.11.2)\n",
            "Requirement already satisfied: termcolor>=1.1.0 in /usr/local/lib/python3.6/dist-packages (from tensorflow==2.0) (1.1.0)\n",
            "Requirement already satisfied: wheel>=0.26 in /usr/local/lib/python3.6/dist-packages (from tensorflow==2.0) (0.34.2)\n",
            "Requirement already satisfied: grpcio>=1.8.6 in /usr/local/lib/python3.6/dist-packages (from tensorflow==2.0) (1.27.1)\n",
            "Collecting tensorflow-estimator<2.1.0,>=2.0.0\n",
            "\u001b[?25l  Downloading https://files.pythonhosted.org/packages/fc/08/8b927337b7019c374719145d1dceba21a8bb909b93b1ad6f8fb7d22c1ca1/tensorflow_estimator-2.0.1-py2.py3-none-any.whl (449kB)\n",
            "\u001b[K     |████████████████████████████████| 450kB 39.3MB/s \n",
            "\u001b[?25hCollecting tensorboard<2.1.0,>=2.0.0\n",
            "\u001b[?25l  Downloading https://files.pythonhosted.org/packages/76/54/99b9d5d52d5cb732f099baaaf7740403e83fe6b0cedde940fabd2b13d75a/tensorboard-2.0.2-py3-none-any.whl (3.8MB)\n",
            "\u001b[K     |████████████████████████████████| 3.8MB 45.7MB/s \n",
            "\u001b[?25hRequirement already satisfied: gast==0.2.2 in /usr/local/lib/python3.6/dist-packages (from tensorflow==2.0) (0.2.2)\n",
            "Requirement already satisfied: six>=1.10.0 in /usr/local/lib/python3.6/dist-packages (from tensorflow==2.0) (1.12.0)\n",
            "Requirement already satisfied: astor>=0.6.0 in /usr/local/lib/python3.6/dist-packages (from tensorflow==2.0) (0.8.1)\n",
            "Requirement already satisfied: google-pasta>=0.1.6 in /usr/local/lib/python3.6/dist-packages (from tensorflow==2.0) (0.1.8)\n",
            "Requirement already satisfied: keras-preprocessing>=1.0.5 in /usr/local/lib/python3.6/dist-packages (from tensorflow==2.0) (1.1.0)\n",
            "Requirement already satisfied: absl-py>=0.7.0 in /usr/local/lib/python3.6/dist-packages (from tensorflow==2.0) (0.9.0)\n",
            "Requirement already satisfied: protobuf>=3.6.1 in /usr/local/lib/python3.6/dist-packages (from tensorflow==2.0) (3.10.0)\n",
            "Requirement already satisfied: numpy<2.0,>=1.16.0 in /usr/local/lib/python3.6/dist-packages (from tensorflow==2.0) (1.17.5)\n",
            "Requirement already satisfied: h5py in /usr/local/lib/python3.6/dist-packages (from keras-applications>=1.0.8->tensorflow==2.0) (2.8.0)\n",
            "Requirement already satisfied: google-auth-oauthlib<0.5,>=0.4.1 in /usr/local/lib/python3.6/dist-packages (from tensorboard<2.1.0,>=2.0.0->tensorflow==2.0) (0.4.1)\n",
            "Requirement already satisfied: markdown>=2.6.8 in /usr/local/lib/python3.6/dist-packages (from tensorboard<2.1.0,>=2.0.0->tensorflow==2.0) (3.2.1)\n",
            "Requirement already satisfied: google-auth<2,>=1.6.3 in /usr/local/lib/python3.6/dist-packages (from tensorboard<2.1.0,>=2.0.0->tensorflow==2.0) (1.7.2)\n",
            "Requirement already satisfied: setuptools>=41.0.0 in /usr/local/lib/python3.6/dist-packages (from tensorboard<2.1.0,>=2.0.0->tensorflow==2.0) (45.2.0)\n",
            "Requirement already satisfied: werkzeug>=0.11.15 in /usr/local/lib/python3.6/dist-packages (from tensorboard<2.1.0,>=2.0.0->tensorflow==2.0) (1.0.0)\n",
            "Requirement already satisfied: requests<3,>=2.21.0 in /usr/local/lib/python3.6/dist-packages (from tensorboard<2.1.0,>=2.0.0->tensorflow==2.0) (2.21.0)\n",
            "Requirement already satisfied: requests-oauthlib>=0.7.0 in /usr/local/lib/python3.6/dist-packages (from google-auth-oauthlib<0.5,>=0.4.1->tensorboard<2.1.0,>=2.0.0->tensorflow==2.0) (1.3.0)\n",
            "Requirement already satisfied: pyasn1-modules>=0.2.1 in /usr/local/lib/python3.6/dist-packages (from google-auth<2,>=1.6.3->tensorboard<2.1.0,>=2.0.0->tensorflow==2.0) (0.2.8)\n",
            "Requirement already satisfied: rsa<4.1,>=3.1.4 in /usr/local/lib/python3.6/dist-packages (from google-auth<2,>=1.6.3->tensorboard<2.1.0,>=2.0.0->tensorflow==2.0) (4.0)\n",
            "Requirement already satisfied: cachetools<3.2,>=2.0.0 in /usr/local/lib/python3.6/dist-packages (from google-auth<2,>=1.6.3->tensorboard<2.1.0,>=2.0.0->tensorflow==2.0) (3.1.1)\n",
            "Requirement already satisfied: idna<2.9,>=2.5 in /usr/local/lib/python3.6/dist-packages (from requests<3,>=2.21.0->tensorboard<2.1.0,>=2.0.0->tensorflow==2.0) (2.8)\n",
            "Requirement already satisfied: chardet<3.1.0,>=3.0.2 in /usr/local/lib/python3.6/dist-packages (from requests<3,>=2.21.0->tensorboard<2.1.0,>=2.0.0->tensorflow==2.0) (3.0.4)\n",
            "Requirement already satisfied: urllib3<1.25,>=1.21.1 in /usr/local/lib/python3.6/dist-packages (from requests<3,>=2.21.0->tensorboard<2.1.0,>=2.0.0->tensorflow==2.0) (1.24.3)\n",
            "Requirement already satisfied: certifi>=2017.4.17 in /usr/local/lib/python3.6/dist-packages (from requests<3,>=2.21.0->tensorboard<2.1.0,>=2.0.0->tensorflow==2.0) (2019.11.28)\n",
            "Requirement already satisfied: oauthlib>=3.0.0 in /usr/local/lib/python3.6/dist-packages (from requests-oauthlib>=0.7.0->google-auth-oauthlib<0.5,>=0.4.1->tensorboard<2.1.0,>=2.0.0->tensorflow==2.0) (3.1.0)\n",
            "Requirement already satisfied: pyasn1<0.5.0,>=0.4.6 in /usr/local/lib/python3.6/dist-packages (from pyasn1-modules>=0.2.1->google-auth<2,>=1.6.3->tensorboard<2.1.0,>=2.0.0->tensorflow==2.0) (0.4.8)\n",
            "Installing collected packages: tensorflow-estimator, tensorboard, tensorflow\n",
            "  Found existing installation: tensorflow-estimator 1.15.1\n",
            "    Uninstalling tensorflow-estimator-1.15.1:\n",
            "      Successfully uninstalled tensorflow-estimator-1.15.1\n",
            "  Found existing installation: tensorboard 1.15.0\n",
            "    Uninstalling tensorboard-1.15.0:\n",
            "      Successfully uninstalled tensorboard-1.15.0\n",
            "  Found existing installation: tensorflow 1.15.0\n",
            "    Uninstalling tensorflow-1.15.0:\n",
            "      Successfully uninstalled tensorflow-1.15.0\n",
            "Successfully installed tensorboard-2.0.2 tensorflow-2.0.0 tensorflow-estimator-2.0.1\n"
          ],
          "name": "stdout"
        },
        {
          "output_type": "display_data",
          "data": {
            "application/vnd.colab-display-data+json": {
              "pip_warning": {
                "packages": [
                  "tensorboard",
                  "tensorflow",
                  "tensorflow_core",
                  "tensorflow_estimator"
                ]
              }
            }
          },
          "metadata": {
            "tags": []
          }
        }
      ]
    },
    {
      "cell_type": "code",
      "metadata": {
        "id": "Z6gPMh5oFm_t",
        "colab_type": "code",
        "outputId": "a8a71283-adfb-48fc-fac0-ef97187cb0f1",
        "colab": {
          "base_uri": "https://localhost:8080/",
          "height": 34
        }
      },
      "source": [
        "import tensorflow as tf\n",
        "print(tf.__version__)"
      ],
      "execution_count": 0,
      "outputs": [
        {
          "output_type": "stream",
          "text": [
            "2.0.0\n"
          ],
          "name": "stdout"
        }
      ]
    },
    {
      "cell_type": "code",
      "metadata": {
        "id": "TTeTpK1OF9hL",
        "colab_type": "code",
        "colab": {}
      },
      "source": [
        "import pandas as pd\n",
        "import numpy as np\n",
        "from sklearn import metrics\n",
        "import matplotlib.pyplot as plt\n",
        "from sklearn.preprocessing import LabelEncoder,MinMaxScaler,StandardScaler\n",
        "%matplotlib inline\n",
        "\n"
      ],
      "execution_count": 0,
      "outputs": []
    },
    {
      "cell_type": "code",
      "metadata": {
        "id": "xWBGVhcjFnW8",
        "colab_type": "code",
        "colab": {}
      },
      "source": [
        "df = pd.read_csv('Churn_Modelling.csv')"
      ],
      "execution_count": 0,
      "outputs": []
    },
    {
      "cell_type": "code",
      "metadata": {
        "id": "5mABt0ZRGNw9",
        "colab_type": "code",
        "outputId": "2c922004-4488-4817-ddcc-9b317519375e",
        "colab": {
          "base_uri": "https://localhost:8080/",
          "height": 215
        }
      },
      "source": [
        "df.head()"
      ],
      "execution_count": 0,
      "outputs": [
        {
          "output_type": "execute_result",
          "data": {
            "text/html": [
              "<div>\n",
              "<style scoped>\n",
              "    .dataframe tbody tr th:only-of-type {\n",
              "        vertical-align: middle;\n",
              "    }\n",
              "\n",
              "    .dataframe tbody tr th {\n",
              "        vertical-align: top;\n",
              "    }\n",
              "\n",
              "    .dataframe thead th {\n",
              "        text-align: right;\n",
              "    }\n",
              "</style>\n",
              "<table border=\"1\" class=\"dataframe\">\n",
              "  <thead>\n",
              "    <tr style=\"text-align: right;\">\n",
              "      <th></th>\n",
              "      <th>RowNumber</th>\n",
              "      <th>CustomerId</th>\n",
              "      <th>Surname</th>\n",
              "      <th>CreditScore</th>\n",
              "      <th>Geography</th>\n",
              "      <th>Gender</th>\n",
              "      <th>Age</th>\n",
              "      <th>Tenure</th>\n",
              "      <th>Balance</th>\n",
              "      <th>NumOfProducts</th>\n",
              "      <th>HasCrCard</th>\n",
              "      <th>IsActiveMember</th>\n",
              "      <th>EstimatedSalary</th>\n",
              "      <th>Exited</th>\n",
              "    </tr>\n",
              "  </thead>\n",
              "  <tbody>\n",
              "    <tr>\n",
              "      <th>0</th>\n",
              "      <td>1</td>\n",
              "      <td>15634602</td>\n",
              "      <td>Hargrave</td>\n",
              "      <td>619</td>\n",
              "      <td>France</td>\n",
              "      <td>Female</td>\n",
              "      <td>42</td>\n",
              "      <td>2</td>\n",
              "      <td>0.00</td>\n",
              "      <td>1</td>\n",
              "      <td>1</td>\n",
              "      <td>1</td>\n",
              "      <td>101348.88</td>\n",
              "      <td>1</td>\n",
              "    </tr>\n",
              "    <tr>\n",
              "      <th>1</th>\n",
              "      <td>2</td>\n",
              "      <td>15647311</td>\n",
              "      <td>Hill</td>\n",
              "      <td>608</td>\n",
              "      <td>Spain</td>\n",
              "      <td>Female</td>\n",
              "      <td>41</td>\n",
              "      <td>1</td>\n",
              "      <td>83807.86</td>\n",
              "      <td>1</td>\n",
              "      <td>0</td>\n",
              "      <td>1</td>\n",
              "      <td>112542.58</td>\n",
              "      <td>0</td>\n",
              "    </tr>\n",
              "    <tr>\n",
              "      <th>2</th>\n",
              "      <td>3</td>\n",
              "      <td>15619304</td>\n",
              "      <td>Onio</td>\n",
              "      <td>502</td>\n",
              "      <td>France</td>\n",
              "      <td>Female</td>\n",
              "      <td>42</td>\n",
              "      <td>8</td>\n",
              "      <td>159660.80</td>\n",
              "      <td>3</td>\n",
              "      <td>1</td>\n",
              "      <td>0</td>\n",
              "      <td>113931.57</td>\n",
              "      <td>1</td>\n",
              "    </tr>\n",
              "    <tr>\n",
              "      <th>3</th>\n",
              "      <td>4</td>\n",
              "      <td>15701354</td>\n",
              "      <td>Boni</td>\n",
              "      <td>699</td>\n",
              "      <td>France</td>\n",
              "      <td>Female</td>\n",
              "      <td>39</td>\n",
              "      <td>1</td>\n",
              "      <td>0.00</td>\n",
              "      <td>2</td>\n",
              "      <td>0</td>\n",
              "      <td>0</td>\n",
              "      <td>93826.63</td>\n",
              "      <td>0</td>\n",
              "    </tr>\n",
              "    <tr>\n",
              "      <th>4</th>\n",
              "      <td>5</td>\n",
              "      <td>15737888</td>\n",
              "      <td>Mitchell</td>\n",
              "      <td>850</td>\n",
              "      <td>Spain</td>\n",
              "      <td>Female</td>\n",
              "      <td>43</td>\n",
              "      <td>2</td>\n",
              "      <td>125510.82</td>\n",
              "      <td>1</td>\n",
              "      <td>1</td>\n",
              "      <td>1</td>\n",
              "      <td>79084.10</td>\n",
              "      <td>0</td>\n",
              "    </tr>\n",
              "  </tbody>\n",
              "</table>\n",
              "</div>"
            ],
            "text/plain": [
              "   RowNumber  CustomerId   Surname  ...  IsActiveMember EstimatedSalary Exited\n",
              "0          1    15634602  Hargrave  ...               1       101348.88      1\n",
              "1          2    15647311      Hill  ...               1       112542.58      0\n",
              "2          3    15619304      Onio  ...               0       113931.57      1\n",
              "3          4    15701354      Boni  ...               0        93826.63      0\n",
              "4          5    15737888  Mitchell  ...               1        79084.10      0\n",
              "\n",
              "[5 rows x 14 columns]"
            ]
          },
          "metadata": {
            "tags": []
          },
          "execution_count": 4
        }
      ]
    },
    {
      "cell_type": "code",
      "metadata": {
        "id": "Wo8jpSJSGPRB",
        "colab_type": "code",
        "outputId": "768f4caf-0fc6-43b1-9655-eabeb99701d5",
        "colab": {
          "base_uri": "https://localhost:8080/",
          "height": 34
        }
      },
      "source": [
        "from tensorflow.keras.datasets import mnist\n",
        "from tensorflow.keras import Sequential\n",
        "from tensorflow.keras.layers import Dense\n",
        "\n",
        "from keras.callbacks import EarlyStopping\n",
        "from keras.layers import BatchNormalization\n"
      ],
      "execution_count": 0,
      "outputs": [
        {
          "output_type": "stream",
          "text": [
            "Using TensorFlow backend.\n"
          ],
          "name": "stderr"
        }
      ]
    },
    {
      "cell_type": "code",
      "metadata": {
        "id": "uKpo8rDRGoy8",
        "colab_type": "code",
        "outputId": "d8c44796-065c-4788-d50a-aa7eb35547fd",
        "colab": {
          "base_uri": "https://localhost:8080/",
          "height": 269
        }
      },
      "source": [
        "df.isnull().sum()"
      ],
      "execution_count": 0,
      "outputs": [
        {
          "output_type": "execute_result",
          "data": {
            "text/plain": [
              "RowNumber          0\n",
              "CustomerId         0\n",
              "Surname            0\n",
              "CreditScore        0\n",
              "Geography          0\n",
              "Gender             0\n",
              "Age                0\n",
              "Tenure             0\n",
              "Balance            0\n",
              "NumOfProducts      0\n",
              "HasCrCard          0\n",
              "IsActiveMember     0\n",
              "EstimatedSalary    0\n",
              "Exited             0\n",
              "dtype: int64"
            ]
          },
          "metadata": {
            "tags": []
          },
          "execution_count": 6
        }
      ]
    },
    {
      "cell_type": "code",
      "metadata": {
        "id": "XXn02HrVGtUa",
        "colab_type": "code",
        "colab": {}
      },
      "source": [
        "df.dropna(inplace=True)"
      ],
      "execution_count": 0,
      "outputs": []
    },
    {
      "cell_type": "code",
      "metadata": {
        "id": "Rt5iuyPkGzUW",
        "colab_type": "code",
        "outputId": "b53f0f6f-44c6-4719-e58f-93166eb25765",
        "colab": {
          "base_uri": "https://localhost:8080/",
          "height": 336
        }
      },
      "source": [
        "df.info()"
      ],
      "execution_count": 0,
      "outputs": [
        {
          "output_type": "stream",
          "text": [
            "<class 'pandas.core.frame.DataFrame'>\n",
            "Int64Index: 10000 entries, 0 to 9999\n",
            "Data columns (total 14 columns):\n",
            "RowNumber          10000 non-null int64\n",
            "CustomerId         10000 non-null int64\n",
            "Surname            10000 non-null object\n",
            "CreditScore        10000 non-null int64\n",
            "Geography          10000 non-null object\n",
            "Gender             10000 non-null object\n",
            "Age                10000 non-null int64\n",
            "Tenure             10000 non-null int64\n",
            "Balance            10000 non-null float64\n",
            "NumOfProducts      10000 non-null int64\n",
            "HasCrCard          10000 non-null int64\n",
            "IsActiveMember     10000 non-null int64\n",
            "EstimatedSalary    10000 non-null float64\n",
            "Exited             10000 non-null int64\n",
            "dtypes: float64(2), int64(9), object(3)\n",
            "memory usage: 1.1+ MB\n"
          ],
          "name": "stdout"
        }
      ]
    },
    {
      "cell_type": "code",
      "metadata": {
        "id": "q6iDP_FfG48j",
        "colab_type": "code",
        "colab": {}
      },
      "source": [
        "\n",
        "df.drop([\"RowNumber\",\"CustomerId\",\"Surname\"],axis=1,inplace=True)"
      ],
      "execution_count": 0,
      "outputs": []
    },
    {
      "cell_type": "code",
      "metadata": {
        "id": "1pJ1LOPFHyli",
        "colab_type": "code",
        "outputId": "39ff5f9e-869c-44b9-9770-3d447346539a",
        "colab": {
          "base_uri": "https://localhost:8080/",
          "height": 195
        }
      },
      "source": [
        "df.head()"
      ],
      "execution_count": 0,
      "outputs": [
        {
          "output_type": "execute_result",
          "data": {
            "text/html": [
              "<div>\n",
              "<style scoped>\n",
              "    .dataframe tbody tr th:only-of-type {\n",
              "        vertical-align: middle;\n",
              "    }\n",
              "\n",
              "    .dataframe tbody tr th {\n",
              "        vertical-align: top;\n",
              "    }\n",
              "\n",
              "    .dataframe thead th {\n",
              "        text-align: right;\n",
              "    }\n",
              "</style>\n",
              "<table border=\"1\" class=\"dataframe\">\n",
              "  <thead>\n",
              "    <tr style=\"text-align: right;\">\n",
              "      <th></th>\n",
              "      <th>CreditScore</th>\n",
              "      <th>Geography</th>\n",
              "      <th>Gender</th>\n",
              "      <th>Age</th>\n",
              "      <th>Tenure</th>\n",
              "      <th>Balance</th>\n",
              "      <th>NumOfProducts</th>\n",
              "      <th>HasCrCard</th>\n",
              "      <th>IsActiveMember</th>\n",
              "      <th>EstimatedSalary</th>\n",
              "      <th>Exited</th>\n",
              "    </tr>\n",
              "  </thead>\n",
              "  <tbody>\n",
              "    <tr>\n",
              "      <th>0</th>\n",
              "      <td>619</td>\n",
              "      <td>France</td>\n",
              "      <td>Female</td>\n",
              "      <td>42</td>\n",
              "      <td>2</td>\n",
              "      <td>0.00</td>\n",
              "      <td>1</td>\n",
              "      <td>1</td>\n",
              "      <td>1</td>\n",
              "      <td>101348.88</td>\n",
              "      <td>1</td>\n",
              "    </tr>\n",
              "    <tr>\n",
              "      <th>1</th>\n",
              "      <td>608</td>\n",
              "      <td>Spain</td>\n",
              "      <td>Female</td>\n",
              "      <td>41</td>\n",
              "      <td>1</td>\n",
              "      <td>83807.86</td>\n",
              "      <td>1</td>\n",
              "      <td>0</td>\n",
              "      <td>1</td>\n",
              "      <td>112542.58</td>\n",
              "      <td>0</td>\n",
              "    </tr>\n",
              "    <tr>\n",
              "      <th>2</th>\n",
              "      <td>502</td>\n",
              "      <td>France</td>\n",
              "      <td>Female</td>\n",
              "      <td>42</td>\n",
              "      <td>8</td>\n",
              "      <td>159660.80</td>\n",
              "      <td>3</td>\n",
              "      <td>1</td>\n",
              "      <td>0</td>\n",
              "      <td>113931.57</td>\n",
              "      <td>1</td>\n",
              "    </tr>\n",
              "    <tr>\n",
              "      <th>3</th>\n",
              "      <td>699</td>\n",
              "      <td>France</td>\n",
              "      <td>Female</td>\n",
              "      <td>39</td>\n",
              "      <td>1</td>\n",
              "      <td>0.00</td>\n",
              "      <td>2</td>\n",
              "      <td>0</td>\n",
              "      <td>0</td>\n",
              "      <td>93826.63</td>\n",
              "      <td>0</td>\n",
              "    </tr>\n",
              "    <tr>\n",
              "      <th>4</th>\n",
              "      <td>850</td>\n",
              "      <td>Spain</td>\n",
              "      <td>Female</td>\n",
              "      <td>43</td>\n",
              "      <td>2</td>\n",
              "      <td>125510.82</td>\n",
              "      <td>1</td>\n",
              "      <td>1</td>\n",
              "      <td>1</td>\n",
              "      <td>79084.10</td>\n",
              "      <td>0</td>\n",
              "    </tr>\n",
              "  </tbody>\n",
              "</table>\n",
              "</div>"
            ],
            "text/plain": [
              "   CreditScore Geography  Gender  ...  IsActiveMember  EstimatedSalary  Exited\n",
              "0          619    France  Female  ...               1        101348.88       1\n",
              "1          608     Spain  Female  ...               1        112542.58       0\n",
              "2          502    France  Female  ...               0        113931.57       1\n",
              "3          699    France  Female  ...               0         93826.63       0\n",
              "4          850     Spain  Female  ...               1         79084.10       0\n",
              "\n",
              "[5 rows x 11 columns]"
            ]
          },
          "metadata": {
            "tags": []
          },
          "execution_count": 10
        }
      ]
    },
    {
      "cell_type": "code",
      "metadata": {
        "id": "Xt8zoXI8w_UG",
        "colab_type": "code",
        "colab": {}
      },
      "source": [
        "encoder=LabelEncoder()\n",
        "df[\"Geography\"]=encoder.fit_transform(df[\"Geography\"])\n",
        "df[\"Gender\"]=encoder.fit_transform(df[\"Gender\"])"
      ],
      "execution_count": 0,
      "outputs": []
    },
    {
      "cell_type": "code",
      "metadata": {
        "id": "gDP4Sxadyg8e",
        "colab_type": "code",
        "outputId": "e28d40d8-c7b4-4493-cf1a-45e383779f2f",
        "colab": {
          "base_uri": "https://localhost:8080/",
          "height": 417
        }
      },
      "source": [
        "df[\"Age\"].value_counts().plot.bar(figsize=(20,6))"
      ],
      "execution_count": 0,
      "outputs": [
        {
          "output_type": "execute_result",
          "data": {
            "text/plain": [
              "<matplotlib.axes._subplots.AxesSubplot at 0x7fc18d3f2668>"
            ]
          },
          "metadata": {
            "tags": []
          },
          "execution_count": 17
        },
        {
          "output_type": "display_data",
          "data": {
            "image/png": "[encoded data removed]",
            "text/plain": [
              "<Figure size 1440x432 with 1 Axes>"
            ]
          },
          "metadata": {
            "tags": []
          }
        }
      ]
    },
    {
      "cell_type": "code",
      "metadata": {
        "id": "GgvyjPOkyhKq",
        "colab_type": "code",
        "outputId": "1d331dbd-32f5-434a-a685-99fd1c008121",
        "colab": {
          "base_uri": "https://localhost:8080/",
          "height": 559
        }
      },
      "source": [
        "import seaborn as sns\n",
        "plt.subplots(figsize=(12,8))\n",
        "sns.heatmap(df.corr(), annot=True, cmap=\"Blues\")\n",
        "plt.show()"
      ],
      "execution_count": 0,
      "outputs": [
        {
          "output_type": "display_data",
          "data": {
            "image/png": "[encoded data removed]",
            "text/plain": [
              "<Figure size 864x576 with 2 Axes>"
            ]
          },
          "metadata": {
            "tags": []
          }
        }
      ]
    },
    {
      "cell_type": "code",
      "metadata": {
        "id": "8Ev1FkIdyhNW",
        "colab_type": "code",
        "colab": {}
      },
      "source": [
        "X=df.drop([\"Exited\"],axis=1)\n",
        "y=df[\"Exited\"]"
      ],
      "execution_count": 0,
      "outputs": []
    },
    {
      "cell_type": "code",
      "metadata": {
        "id": "b_VlcROWyhPX",
        "colab_type": "code",
        "outputId": "cb0bf25e-2d15-44af-9a58-b1d97c0d35bc",
        "colab": {
          "base_uri": "https://localhost:8080/",
          "height": 34
        }
      },
      "source": [
        "y.shape"
      ],
      "execution_count": 0,
      "outputs": [
        {
          "output_type": "execute_result",
          "data": {
            "text/plain": [
              "(10000,)"
            ]
          },
          "metadata": {
            "tags": []
          },
          "execution_count": 47
        }
      ]
    },
    {
      "cell_type": "code",
      "metadata": {
        "id": "2_SGH4B3yhRv",
        "colab_type": "code",
        "colab": {}
      },
      "source": [
        "from sklearn.model_selection import train_test_split\n",
        "X_train,X_test,y_train,y_test=train_test_split(X,y,test_size=0.25,random_state=1)"
      ],
      "execution_count": 0,
      "outputs": []
    },
    {
      "cell_type": "code",
      "metadata": {
        "id": "muRaR6chQCr1",
        "colab_type": "code",
        "outputId": "3f2e1502-14bb-4b78-d08b-39ea353774fb",
        "colab": {
          "base_uri": "https://localhost:8080/",
          "height": 84
        }
      },
      "source": [
        "print(X_train.shape)\n",
        "print(y_train.shape)\n",
        "print(X_test.shape)\n",
        "print(y_test.shape)"
      ],
      "execution_count": 0,
      "outputs": [
        {
          "output_type": "stream",
          "text": [
            "(7500, 10)\n",
            "(7500,)\n",
            "(2500, 10)\n",
            "(2500,)\n"
          ],
          "name": "stdout"
        }
      ]
    },
    {
      "cell_type": "code",
      "metadata": {
        "id": "BvBjXvaQOoug",
        "colab_type": "code",
        "colab": {}
      },
      "source": [
        "from sklearn.preprocessing import StandardScaler\n",
        "\n",
        "# Define the scaler \n",
        "scaler = StandardScaler().fit(X_train)\n",
        "\n",
        "# Scale the train set\n",
        "X_train = scaler.transform(X_train)\n",
        "\n",
        "# Scale the test set\n",
        "X_test = scaler.transform(X_test)"
      ],
      "execution_count": 0,
      "outputs": []
    },
    {
      "cell_type": "code",
      "metadata": {
        "id": "TGbcT7gqOyvm",
        "colab_type": "code",
        "colab": {}
      },
      "source": [
        "#X_train=np.array(X_train)\n",
        "#X_test=np.array(X_test)\n",
        "#y_train=np.array(y_train)\n",
        "#y_test=np.array(y_test)"
      ],
      "execution_count": 0,
      "outputs": []
    },
    {
      "cell_type": "code",
      "metadata": {
        "id": "rpB50C0zO2L3",
        "colab_type": "code",
        "colab": {}
      },
      "source": [
        ""
      ],
      "execution_count": 0,
      "outputs": []
    },
    {
      "cell_type": "code",
      "metadata": {
        "id": "c3azydulyhXe",
        "colab_type": "code",
        "colab": {}
      },
      "source": [
        "from tensorflow.keras import Sequential\n",
        "from tensorflow.keras.layers import Dense\n",
        "from keras.layers.advanced_activations import ReLU\n",
        "from tensorflow.keras.layers import Flatten\n",
        "model = Sequential()\n",
        "1\n",
        "# Add an input layer \n",
        "model.add(Dense(30, activation='relu', input_shape=(10,)))\n",
        "model.add(Dense(100, activation='sigmoid'))\n",
        "model.add(Dense(100, activation='relu'))\n",
        "model.add(Dense(10,activation='softmax'))"
      ],
      "execution_count": 0,
      "outputs": []
    },
    {
      "cell_type": "code",
      "metadata": {
        "id": "T9t1QhcHyhaz",
        "colab_type": "code",
        "colab": {}
      },
      "source": [
        "model.compile(loss='sparse_categorical_crossentropy',optimizer='adam',metrics=['accuracy'])"
      ],
      "execution_count": 0,
      "outputs": []
    },
    {
      "cell_type": "code",
      "metadata": {
        "id": "MKT8P1TUyhdd",
        "colab_type": "code",
        "outputId": "1f3c0f07-de3e-41c6-dfb2-21e17f8d28e3",
        "colab": {
          "base_uri": "https://localhost:8080/",
          "height": 1000
        }
      },
      "source": [
        "epochs = 100\n",
        "batch_size = 2000\n",
        "from keras.utils import to_categorical\n",
        "\n",
        "history = model.fit(X_train, y_train, batch_size=batch_size, epochs=epochs, validation_split=.1, verbose=True)\n",
        "\n",
        "loss,accuracy  = model.evaluate(X_test, y_test, verbose=False)"
      ],
      "execution_count": 0,
      "outputs": [
        {
          "output_type": "stream",
          "text": [
            "WARNING:tensorflow:Falling back from v2 loop because of error: Failed to find data adapter that can handle input: <class 'pandas.core.frame.DataFrame'>, <class 'NoneType'>\n",
            "Train on 6750 samples, validate on 750 samples\n",
            "Epoch 1/100\n",
            "6750/6750 [==============================] - 0s 25us/sample - loss: 2.3589 - accuracy: 0.3504 - val_loss: 1.7539 - val_accuracy: 0.7773\n",
            "Epoch 2/100\n",
            "6750/6750 [==============================] - 0s 7us/sample - loss: 1.4778 - accuracy: 0.8000 - val_loss: 1.1702 - val_accuracy: 0.7773\n",
            "Epoch 3/100\n",
            "6750/6750 [==============================] - 0s 7us/sample - loss: 0.9885 - accuracy: 0.8000 - val_loss: 0.8631 - val_accuracy: 0.7773\n",
            "Epoch 4/100\n",
            "6750/6750 [==============================] - 0s 7us/sample - loss: 0.7335 - accuracy: 0.8000 - val_loss: 0.6802 - val_accuracy: 0.7773\n",
            "Epoch 5/100\n",
            "6750/6750 [==============================] - 0s 6us/sample - loss: 0.5932 - accuracy: 0.8000 - val_loss: 0.5837 - val_accuracy: 0.7773\n",
            "Epoch 6/100\n",
            "6750/6750 [==============================] - 0s 7us/sample - loss: 0.5364 - accuracy: 0.8000 - val_loss: 0.5616 - val_accuracy: 0.7773\n",
            "Epoch 7/100\n",
            "6750/6750 [==============================] - 0s 7us/sample - loss: 0.5280 - accuracy: 0.8000 - val_loss: 0.5451 - val_accuracy: 0.7773\n",
            "Epoch 8/100\n",
            "6750/6750 [==============================] - 0s 8us/sample - loss: 0.5075 - accuracy: 0.8000 - val_loss: 0.5446 - val_accuracy: 0.7773\n",
            "Epoch 9/100\n",
            "6750/6750 [==============================] - 0s 7us/sample - loss: 0.5054 - accuracy: 0.8000 - val_loss: 0.5497 - val_accuracy: 0.7773\n",
            "Epoch 10/100\n",
            "6750/6750 [==============================] - 0s 7us/sample - loss: 0.5032 - accuracy: 0.8000 - val_loss: 0.5320 - val_accuracy: 0.7773\n",
            "Epoch 11/100\n",
            "6750/6750 [==============================] - 0s 7us/sample - loss: 0.4987 - accuracy: 0.8000 - val_loss: 0.5299 - val_accuracy: 0.7773\n",
            "Epoch 12/100\n",
            "6750/6750 [==============================] - 0s 6us/sample - loss: 0.4980 - accuracy: 0.8000 - val_loss: 0.5307 - val_accuracy: 0.7773\n",
            "Epoch 13/100\n",
            "6750/6750 [==============================] - 0s 7us/sample - loss: 0.4960 - accuracy: 0.8000 - val_loss: 0.5329 - val_accuracy: 0.7773\n",
            "Epoch 14/100\n",
            "6750/6750 [==============================] - 0s 7us/sample - loss: 0.4952 - accuracy: 0.8000 - val_loss: 0.5333 - val_accuracy: 0.7773\n",
            "Epoch 15/100\n",
            "6750/6750 [==============================] - 0s 7us/sample - loss: 0.4954 - accuracy: 0.8000 - val_loss: 0.5315 - val_accuracy: 0.7773\n",
            "Epoch 16/100\n",
            "6750/6750 [==============================] - 0s 8us/sample - loss: 0.4944 - accuracy: 0.8000 - val_loss: 0.5301 - val_accuracy: 0.7773\n",
            "Epoch 17/100\n",
            "6750/6750 [==============================] - 0s 7us/sample - loss: 0.4942 - accuracy: 0.8000 - val_loss: 0.5307 - val_accuracy: 0.7773\n",
            "Epoch 18/100\n",
            "6750/6750 [==============================] - 0s 7us/sample - loss: 0.4944 - accuracy: 0.8000 - val_loss: 0.5308 - val_accuracy: 0.7773\n",
            "Epoch 19/100\n",
            "6750/6750 [==============================] - 0s 7us/sample - loss: 0.4944 - accuracy: 0.8000 - val_loss: 0.5304 - val_accuracy: 0.7773\n",
            "Epoch 20/100\n",
            "6750/6750 [==============================] - 0s 7us/sample - loss: 0.4944 - accuracy: 0.8000 - val_loss: 0.5297 - val_accuracy: 0.7773\n",
            "Epoch 21/100\n",
            "6750/6750 [==============================] - 0s 8us/sample - loss: 0.4942 - accuracy: 0.8000 - val_loss: 0.5302 - val_accuracy: 0.7773\n",
            "Epoch 22/100\n",
            "6750/6750 [==============================] - 0s 8us/sample - loss: 0.4940 - accuracy: 0.8000 - val_loss: 0.5294 - val_accuracy: 0.7773\n",
            "Epoch 23/100\n",
            "6750/6750 [==============================] - 0s 8us/sample - loss: 0.4941 - accuracy: 0.8000 - val_loss: 0.5305 - val_accuracy: 0.7773\n",
            "Epoch 24/100\n",
            "6750/6750 [==============================] - 0s 7us/sample - loss: 0.4938 - accuracy: 0.8000 - val_loss: 0.5308 - val_accuracy: 0.7773\n",
            "Epoch 25/100\n",
            "6750/6750 [==============================] - 0s 7us/sample - loss: 0.4940 - accuracy: 0.8000 - val_loss: 0.5299 - val_accuracy: 0.7773\n",
            "Epoch 26/100\n",
            "6750/6750 [==============================] - 0s 8us/sample - loss: 0.4936 - accuracy: 0.8000 - val_loss: 0.5283 - val_accuracy: 0.7773\n",
            "Epoch 27/100\n",
            "6750/6750 [==============================] - 0s 7us/sample - loss: 0.4940 - accuracy: 0.8000 - val_loss: 0.5296 - val_accuracy: 0.7773\n",
            "Epoch 28/100\n",
            "6750/6750 [==============================] - 0s 7us/sample - loss: 0.4938 - accuracy: 0.8000 - val_loss: 0.5313 - val_accuracy: 0.7773\n",
            "Epoch 29/100\n",
            "6750/6750 [==============================] - 0s 7us/sample - loss: 0.4935 - accuracy: 0.8000 - val_loss: 0.5301 - val_accuracy: 0.7773\n",
            "Epoch 30/100\n",
            "6750/6750 [==============================] - 0s 8us/sample - loss: 0.4935 - accuracy: 0.8000 - val_loss: 0.5286 - val_accuracy: 0.7773\n",
            "Epoch 31/100\n",
            "6750/6750 [==============================] - 0s 7us/sample - loss: 0.4936 - accuracy: 0.8000 - val_loss: 0.5301 - val_accuracy: 0.7773\n",
            "Epoch 32/100\n",
            "6750/6750 [==============================] - 0s 7us/sample - loss: 0.4937 - accuracy: 0.8000 - val_loss: 0.5290 - val_accuracy: 0.7773\n",
            "Epoch 33/100\n",
            "6750/6750 [==============================] - 0s 7us/sample - loss: 0.4949 - accuracy: 0.8000 - val_loss: 0.5296 - val_accuracy: 0.7773\n",
            "Epoch 34/100\n",
            "6750/6750 [==============================] - 0s 8us/sample - loss: 0.4943 - accuracy: 0.8000 - val_loss: 0.5271 - val_accuracy: 0.7773\n",
            "Epoch 35/100\n",
            "6750/6750 [==============================] - 0s 7us/sample - loss: 0.4943 - accuracy: 0.8000 - val_loss: 0.5276 - val_accuracy: 0.7773\n",
            "Epoch 36/100\n",
            "6750/6750 [==============================] - 0s 7us/sample - loss: 0.4935 - accuracy: 0.8000 - val_loss: 0.5303 - val_accuracy: 0.7773\n",
            "Epoch 37/100\n",
            "6750/6750 [==============================] - 0s 7us/sample - loss: 0.4933 - accuracy: 0.8000 - val_loss: 0.5292 - val_accuracy: 0.7773\n",
            "Epoch 38/100\n",
            "6750/6750 [==============================] - 0s 7us/sample - loss: 0.4934 - accuracy: 0.8000 - val_loss: 0.5292 - val_accuracy: 0.7773\n",
            "Epoch 39/100\n",
            "6750/6750 [==============================] - 0s 7us/sample - loss: 0.4933 - accuracy: 0.8000 - val_loss: 0.5296 - val_accuracy: 0.7773\n",
            "Epoch 40/100\n",
            "6750/6750 [==============================] - 0s 7us/sample - loss: 0.4933 - accuracy: 0.8000 - val_loss: 0.5285 - val_accuracy: 0.7773\n",
            "Epoch 41/100\n",
            "6750/6750 [==============================] - 0s 7us/sample - loss: 0.4946 - accuracy: 0.8000 - val_loss: 0.5270 - val_accuracy: 0.7773\n",
            "Epoch 42/100\n",
            "6750/6750 [==============================] - 0s 8us/sample - loss: 0.4938 - accuracy: 0.8000 - val_loss: 0.5334 - val_accuracy: 0.7773\n",
            "Epoch 43/100\n",
            "6750/6750 [==============================] - 0s 7us/sample - loss: 0.4943 - accuracy: 0.8000 - val_loss: 0.5278 - val_accuracy: 0.7773\n",
            "Epoch 44/100\n",
            "6750/6750 [==============================] - 0s 7us/sample - loss: 0.4933 - accuracy: 0.8000 - val_loss: 0.5273 - val_accuracy: 0.7773\n",
            "Epoch 45/100\n",
            "6750/6750 [==============================] - 0s 7us/sample - loss: 0.4928 - accuracy: 0.8000 - val_loss: 0.5296 - val_accuracy: 0.7773\n",
            "Epoch 46/100\n",
            "6750/6750 [==============================] - 0s 7us/sample - loss: 0.4927 - accuracy: 0.8000 - val_loss: 0.5287 - val_accuracy: 0.7773\n",
            "Epoch 47/100\n",
            "6750/6750 [==============================] - 0s 8us/sample - loss: 0.4926 - accuracy: 0.8000 - val_loss: 0.5277 - val_accuracy: 0.7773\n",
            "Epoch 48/100\n",
            "6750/6750 [==============================] - 0s 7us/sample - loss: 0.4926 - accuracy: 0.8000 - val_loss: 0.5270 - val_accuracy: 0.7773\n",
            "Epoch 49/100\n",
            "6750/6750 [==============================] - 0s 7us/sample - loss: 0.4928 - accuracy: 0.8000 - val_loss: 0.5283 - val_accuracy: 0.7773\n",
            "Epoch 50/100\n",
            "6750/6750 [==============================] - 0s 7us/sample - loss: 0.4926 - accuracy: 0.8000 - val_loss: 0.5286 - val_accuracy: 0.7773\n",
            "Epoch 51/100\n",
            "6750/6750 [==============================] - 0s 7us/sample - loss: 0.4924 - accuracy: 0.8000 - val_loss: 0.5270 - val_accuracy: 0.7773\n",
            "Epoch 52/100\n",
            "6750/6750 [==============================] - 0s 8us/sample - loss: 0.4924 - accuracy: 0.8000 - val_loss: 0.5274 - val_accuracy: 0.7773\n",
            "Epoch 53/100\n",
            "6750/6750 [==============================] - 0s 7us/sample - loss: 0.4930 - accuracy: 0.8000 - val_loss: 0.5295 - val_accuracy: 0.7773\n",
            "Epoch 54/100\n",
            "6750/6750 [==============================] - 0s 8us/sample - loss: 0.4924 - accuracy: 0.8000 - val_loss: 0.5270 - val_accuracy: 0.7773\n",
            "Epoch 55/100\n",
            "6750/6750 [==============================] - 0s 7us/sample - loss: 0.4925 - accuracy: 0.8000 - val_loss: 0.5289 - val_accuracy: 0.7773\n",
            "Epoch 56/100\n",
            "6750/6750 [==============================] - 0s 7us/sample - loss: 0.4927 - accuracy: 0.8000 - val_loss: 0.5280 - val_accuracy: 0.7773\n",
            "Epoch 57/100\n",
            "6750/6750 [==============================] - 0s 7us/sample - loss: 0.4930 - accuracy: 0.8000 - val_loss: 0.5269 - val_accuracy: 0.7773\n",
            "Epoch 58/100\n",
            "6750/6750 [==============================] - 0s 7us/sample - loss: 0.4928 - accuracy: 0.8000 - val_loss: 0.5294 - val_accuracy: 0.7773\n",
            "Epoch 59/100\n",
            "6750/6750 [==============================] - 0s 7us/sample - loss: 0.4930 - accuracy: 0.8000 - val_loss: 0.5272 - val_accuracy: 0.7773\n",
            "Epoch 60/100\n",
            "6750/6750 [==============================] - 0s 7us/sample - loss: 0.4927 - accuracy: 0.8000 - val_loss: 0.5274 - val_accuracy: 0.7773\n",
            "Epoch 61/100\n",
            "6750/6750 [==============================] - 0s 7us/sample - loss: 0.4924 - accuracy: 0.8000 - val_loss: 0.5285 - val_accuracy: 0.7773\n",
            "Epoch 62/100\n",
            "6750/6750 [==============================] - 0s 7us/sample - loss: 0.4925 - accuracy: 0.8000 - val_loss: 0.5276 - val_accuracy: 0.7773\n",
            "Epoch 63/100\n",
            "6750/6750 [==============================] - 0s 8us/sample - loss: 0.4923 - accuracy: 0.8000 - val_loss: 0.5267 - val_accuracy: 0.7773\n",
            "Epoch 64/100\n",
            "6750/6750 [==============================] - 0s 7us/sample - loss: 0.4922 - accuracy: 0.8000 - val_loss: 0.5264 - val_accuracy: 0.7773\n",
            "Epoch 65/100\n",
            "6750/6750 [==============================] - 0s 7us/sample - loss: 0.4921 - accuracy: 0.8000 - val_loss: 0.5271 - val_accuracy: 0.7773\n",
            "Epoch 66/100\n",
            "6750/6750 [==============================] - 0s 7us/sample - loss: 0.4924 - accuracy: 0.8000 - val_loss: 0.5284 - val_accuracy: 0.7773\n",
            "Epoch 67/100\n",
            "6750/6750 [==============================] - 0s 7us/sample - loss: 0.4919 - accuracy: 0.8000 - val_loss: 0.5267 - val_accuracy: 0.7773\n",
            "Epoch 68/100\n",
            "6750/6750 [==============================] - 0s 8us/sample - loss: 0.4923 - accuracy: 0.8000 - val_loss: 0.5280 - val_accuracy: 0.7773\n",
            "Epoch 69/100\n",
            "6750/6750 [==============================] - 0s 7us/sample - loss: 0.4918 - accuracy: 0.8000 - val_loss: 0.5297 - val_accuracy: 0.7773\n",
            "Epoch 70/100\n",
            "6750/6750 [==============================] - 0s 7us/sample - loss: 0.4920 - accuracy: 0.8000 - val_loss: 0.5268 - val_accuracy: 0.7773\n",
            "Epoch 71/100\n",
            "6750/6750 [==============================] - 0s 7us/sample - loss: 0.4921 - accuracy: 0.8000 - val_loss: 0.5269 - val_accuracy: 0.7773\n",
            "Epoch 72/100\n",
            "6750/6750 [==============================] - 0s 8us/sample - loss: 0.4921 - accuracy: 0.8000 - val_loss: 0.5276 - val_accuracy: 0.7773\n",
            "Epoch 73/100\n",
            "6750/6750 [==============================] - 0s 7us/sample - loss: 0.4920 - accuracy: 0.8000 - val_loss: 0.5269 - val_accuracy: 0.7773\n",
            "Epoch 74/100\n",
            "6750/6750 [==============================] - 0s 7us/sample - loss: 0.4920 - accuracy: 0.8000 - val_loss: 0.5285 - val_accuracy: 0.7773\n",
            "Epoch 75/100\n",
            "6750/6750 [==============================] - 0s 7us/sample - loss: 0.4917 - accuracy: 0.8000 - val_loss: 0.5276 - val_accuracy: 0.7773\n",
            "Epoch 76/100\n",
            "6750/6750 [==============================] - 0s 9us/sample - loss: 0.4919 - accuracy: 0.8000 - val_loss: 0.5277 - val_accuracy: 0.7773\n",
            "Epoch 77/100\n",
            "6750/6750 [==============================] - 0s 9us/sample - loss: 0.4919 - accuracy: 0.8000 - val_loss: 0.5294 - val_accuracy: 0.7773\n",
            "Epoch 78/100\n",
            "6750/6750 [==============================] - 0s 7us/sample - loss: 0.4920 - accuracy: 0.8000 - val_loss: 0.5261 - val_accuracy: 0.7773\n",
            "Epoch 79/100\n",
            "6750/6750 [==============================] - 0s 7us/sample - loss: 0.4924 - accuracy: 0.8000 - val_loss: 0.5276 - val_accuracy: 0.7773\n",
            "Epoch 80/100\n",
            "6750/6750 [==============================] - 0s 8us/sample - loss: 0.4933 - accuracy: 0.8000 - val_loss: 0.5291 - val_accuracy: 0.7773\n",
            "Epoch 81/100\n",
            "6750/6750 [==============================] - 0s 9us/sample - loss: 0.4924 - accuracy: 0.8000 - val_loss: 0.5255 - val_accuracy: 0.7773\n",
            "Epoch 82/100\n",
            "6750/6750 [==============================] - 0s 8us/sample - loss: 0.4933 - accuracy: 0.8000 - val_loss: 0.5297 - val_accuracy: 0.7773\n",
            "Epoch 83/100\n",
            "6750/6750 [==============================] - 0s 7us/sample - loss: 0.4925 - accuracy: 0.8000 - val_loss: 0.5280 - val_accuracy: 0.7773\n",
            "Epoch 84/100\n",
            "6750/6750 [==============================] - 0s 7us/sample - loss: 0.4920 - accuracy: 0.8000 - val_loss: 0.5263 - val_accuracy: 0.7773\n",
            "Epoch 85/100\n",
            "6750/6750 [==============================] - 0s 7us/sample - loss: 0.4923 - accuracy: 0.8000 - val_loss: 0.5272 - val_accuracy: 0.7773\n",
            "Epoch 86/100\n",
            "6750/6750 [==============================] - 0s 7us/sample - loss: 0.4927 - accuracy: 0.8000 - val_loss: 0.5288 - val_accuracy: 0.7773\n",
            "Epoch 87/100\n",
            "6750/6750 [==============================] - 0s 8us/sample - loss: 0.4919 - accuracy: 0.8000 - val_loss: 0.5255 - val_accuracy: 0.7773\n",
            "Epoch 88/100\n",
            "6750/6750 [==============================] - 0s 7us/sample - loss: 0.4925 - accuracy: 0.8000 - val_loss: 0.5310 - val_accuracy: 0.7773\n",
            "Epoch 89/100\n",
            "6750/6750 [==============================] - 0s 7us/sample - loss: 0.4926 - accuracy: 0.8000 - val_loss: 0.5291 - val_accuracy: 0.7773\n",
            "Epoch 90/100\n",
            "6750/6750 [==============================] - 0s 8us/sample - loss: 0.4918 - accuracy: 0.8000 - val_loss: 0.5266 - val_accuracy: 0.7773\n",
            "Epoch 91/100\n",
            "6750/6750 [==============================] - 0s 7us/sample - loss: 0.4919 - accuracy: 0.8000 - val_loss: 0.5299 - val_accuracy: 0.7773\n",
            "Epoch 92/100\n",
            "6750/6750 [==============================] - 0s 7us/sample - loss: 0.4924 - accuracy: 0.8000 - val_loss: 0.5277 - val_accuracy: 0.7773\n",
            "Epoch 93/100\n",
            "6750/6750 [==============================] - 0s 7us/sample - loss: 0.4920 - accuracy: 0.8000 - val_loss: 0.5280 - val_accuracy: 0.7773\n",
            "Epoch 94/100\n",
            "6750/6750 [==============================] - 0s 7us/sample - loss: 0.4923 - accuracy: 0.8000 - val_loss: 0.5287 - val_accuracy: 0.7773\n",
            "Epoch 95/100\n",
            "6750/6750 [==============================] - 0s 7us/sample - loss: 0.4918 - accuracy: 0.8000 - val_loss: 0.5280 - val_accuracy: 0.7773\n",
            "Epoch 96/100\n",
            "6750/6750 [==============================] - 0s 7us/sample - loss: 0.4920 - accuracy: 0.8000 - val_loss: 0.5298 - val_accuracy: 0.7773\n",
            "Epoch 97/100\n",
            "6750/6750 [==============================] - 0s 7us/sample - loss: 0.4924 - accuracy: 0.8000 - val_loss: 0.5295 - val_accuracy: 0.7773\n",
            "Epoch 98/100\n",
            "6750/6750 [==============================] - 0s 8us/sample - loss: 0.4920 - accuracy: 0.8000 - val_loss: 0.5275 - val_accuracy: 0.7773\n",
            "Epoch 99/100\n",
            "6750/6750 [==============================] - 0s 7us/sample - loss: 0.4929 - accuracy: 0.8000 - val_loss: 0.5289 - val_accuracy: 0.7773\n",
            "Epoch 100/100\n",
            "6750/6750 [==============================] - 0s 7us/sample - loss: 0.4932 - accuracy: 0.8000 - val_loss: 0.5307 - val_accuracy: 0.7773\n",
            "WARNING:tensorflow:Falling back from v2 loop because of error: Failed to find data adapter that can handle input: <class 'pandas.core.frame.DataFrame'>, <class 'NoneType'>\n"
          ],
          "name": "stdout"
        }
      ]
    },
    {
      "cell_type": "code",
      "metadata": {
        "id": "HI7fpbuFyhgh",
        "colab_type": "code",
        "outputId": "8fef5064-db92-4742-e386-a99c9c096b29",
        "colab": {
          "base_uri": "https://localhost:8080/",
          "height": 54
        }
      },
      "source": [
        "import numpy as np\n",
        "y_pred = np.round(model.predict(X_test))"
      ],
      "execution_count": 0,
      "outputs": [
        {
          "output_type": "stream",
          "text": [
            "WARNING:tensorflow:Falling back from v2 loop because of error: Failed to find data adapter that can handle input: <class 'pandas.core.frame.DataFrame'>, <class 'NoneType'>\n"
          ],
          "name": "stdout"
        }
      ]
    },
    {
      "cell_type": "code",
      "metadata": {
        "id": "siKfeJ9Ceffg",
        "colab_type": "code",
        "outputId": "ae110ba2-ec59-4acc-96c9-392e492bb41a",
        "colab": {
          "base_uri": "https://localhost:8080/",
          "height": 50
        }
      },
      "source": [
        "print(y_pred[0])\n",
        "print(y[0])"
      ],
      "execution_count": 0,
      "outputs": [
        {
          "output_type": "stream",
          "text": [
            "[1. 0. 0. 0. 0. 0. 0. 0. 0. 0.]\n",
            "1\n"
          ],
          "name": "stdout"
        }
      ]
    },
    {
      "cell_type": "code",
      "metadata": {
        "id": "QK0hmCyKefiY",
        "colab_type": "code",
        "colab": {}
      },
      "source": [
        ""
      ],
      "execution_count": 0,
      "outputs": []
    },
    {
      "cell_type": "code",
      "metadata": {
        "id": "XNVSscVSefk7",
        "colab_type": "code",
        "colab": {}
      },
      "source": [
        ""
      ],
      "execution_count": 0,
      "outputs": []
    },
    {
      "cell_type": "code",
      "metadata": {
        "id": "-dJUAcHSefnQ",
        "colab_type": "code",
        "colab": {}
      },
      "source": [
        ""
      ],
      "execution_count": 0,
      "outputs": []
    },
    {
      "cell_type": "code",
      "metadata": {
        "id": "q6SBIcMGefp0",
        "colab_type": "code",
        "colab": {}
      },
      "source": [
        ""
      ],
      "execution_count": 0,
      "outputs": []
    }
  ]
}