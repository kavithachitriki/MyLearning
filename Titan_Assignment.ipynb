{
 "cells": [
  {
   "cell_type": "code",
   "execution_count": 28,
   "metadata": {},
   "outputs": [],
   "source": [
    "import pandas as pd\n",
    "import scipy.stats as stats  \n",
    "import numpy as np\n",
    "from scipy.stats import ttest_1samp,wilcoxon\n",
    "from statsmodels.stats.power import ttest_power\n",
    "import matplotlib.pyplot as plt"
   ]
  },
  {
   "cell_type": "code",
   "execution_count": 7,
   "metadata": {},
   "outputs": [],
   "source": [
    "data = {'SALESPERSON': [1, 2, 3, 4,5,6,7,8,9,10,11,12,13,14,15,16,17,18,19,20,21,22,23,24,25,26,27,28,29,30], \n",
    "        'Old Scheme': [57,103,59,75,84,73,35,110,44,82,67,64,78,53,41,39,80,87,73,65,28,62,49,84,63,77,67,101,91,50],\n",
    "       'New Scheme': [62,122,54,82,84,86,32,104,38,107,84,85,99,39,34,58,73,53,66,78,41,71,38,95,81,58,75,94,100,68]}\n",
    "df=pd.DataFrame.from_dict(data)\n"
   ]
  },
  {
   "cell_type": "code",
   "execution_count": 24,
   "metadata": {},
   "outputs": [
    {
     "name": "stdout",
     "output_type": "stream",
     "text": [
      "68.03333333333333\n",
      "72.03333333333333\n"
     ]
    }
   ],
   "source": [
    "print(df['Old Scheme'].mean())\n",
    "print(df['New Scheme'].mean())"
   ]
  },
  {
   "cell_type": "markdown",
   "metadata": {},
   "source": [
    "𝐻0 : 𝜇𝐴𝑓𝑡𝑒𝑟 - 𝜇𝐵𝑒𝑓𝑜𝑟𝑒 = 0(No Difference in Sales)\n",
    "𝐻𝐴: 𝜇𝐴𝑓𝑡𝑒𝑟 - 𝜇𝐵𝑒𝑓𝑜𝑟𝑒 ≠ 0(Difference in Sales increase)"
   ]
  },
  {
   "cell_type": "markdown",
   "metadata": {},
   "source": [
    "#t_statistic, p_value  =  stats.ttest_rel(df['Old Scheme'],df['New Scheme'] )\n",
    "#print('P Value %1.3f' % p_value)  "
   ]
  },
  {
   "cell_type": "code",
   "execution_count": 25,
   "metadata": {},
   "outputs": [
    {
     "name": "stdout",
     "output_type": "stream",
     "text": [
      "P Value 0.131\n",
      "Mean is 4.00 and standard deviation is 14.08\n",
      "P Value 0.131\n"
     ]
    }
   ],
   "source": [
    "t_statistic, p_value = stats.ttest_rel(df['Old Scheme'],df['New Scheme'] )\n",
    "print('P Value %1.3f' % p_value)\n",
    "\n",
    "D  = df['New Scheme'] -df['Old Scheme']\n",
    "print('Mean is %3.2f and standard deviation is %3.2f' %(D.mean(),np.std(D,ddof = 1)))\n",
    "t_statistic, p_value  =  stats.ttest_1samp(D, 0)\n",
    "print('P Value %1.3f' % p_value)  "
   ]
  },
  {
   "cell_type": "markdown",
   "metadata": {},
   "source": [
    "Conclusion:Here P-Value at 5% significance is more than marked value,so we accept null hypothesis that there is change in sales increase between old scheme and new scheme"
   ]
  },
  {
   "cell_type": "code",
   "execution_count": 64,
   "metadata": {},
   "outputs": [
    {
     "name": "stdout",
     "output_type": "stream",
     "text": [
      "68033.33333333333\n",
      "20455.98021207445\n",
      "3734.733932677496\n",
      "t-statistic\n",
      "16.877596763136385\n"
     ]
    },
    {
     "data": {
      "text/plain": [
       "Ttest_1sampResult(statistic=16.87759676313638, pvalue=1.5447899486190423e-16)"
      ]
     },
     "execution_count": 64,
     "metadata": {},
     "output_type": "execute_result"
    }
   ],
   "source": [
    "Old_Scheme=df['Old Scheme']*1000\n",
    "n=30\n",
    "s=np.std(Old_Scheme,ddof=1)\n",
    "xbar=np.mean(Old_Scheme)\n",
    "se=s/np.sqrt(n)\n",
    "print(xbar)\n",
    "print(s)\n",
    "print(se)\n",
    "print(\"t-statistic\")\n",
    "print((xbar-5000)/se)\n",
    "ttest_1samp(Old_Scheme, 5000)"
   ]
  },
  {
   "cell_type": "code",
   "execution_count": 65,
   "metadata": {},
   "outputs": [
    {
     "name": "stdout",
     "output_type": "stream",
     "text": [
      "16.87759676313638 1.5447899486190423e-16\n"
     ]
    }
   ],
   "source": [
    "#parametric\n",
    "t_statistic,p_value=ttest_1samp(Old_Scheme,5000)\n",
    "print(t_statistic,p_value)"
   ]
  },
  {
   "cell_type": "code",
   "execution_count": 66,
   "metadata": {},
   "outputs": [
    {
     "name": "stdout",
     "output_type": "stream",
     "text": [
      "0.0 1.7311263949197288e-06\n"
     ]
    }
   ],
   "source": [
    "#non-parametric\n",
    "z_statistic,p_value=wilcoxon(Old_Scheme-5000)\n",
    "print(z_statistic,p_value)"
   ]
  },
  {
   "cell_type": "markdown",
   "metadata": {},
   "source": [
    "Since p-value is less than .05,we reject null Hypothesis"
   ]
  },
  {
   "cell_type": "code",
   "execution_count": 67,
   "metadata": {},
   "outputs": [
    {
     "data": {
      "text/plain": [
       "3.081413487881991"
      ]
     },
     "execution_count": 67,
     "metadata": {},
     "output_type": "execute_result"
    }
   ],
   "source": [
    "s=np.std(Old_Scheme,ddof=1)\n",
    "xbar=np.mean(Old_Scheme)\n",
    "(xbar - 5000)/s"
   ]
  },
  {
   "cell_type": "code",
   "execution_count": 70,
   "metadata": {},
   "outputs": [
    {
     "name": "stdout",
     "output_type": "stream",
     "text": [
      "1.0\n"
     ]
    }
   ],
   "source": [
    "print(ttest_power(3.081,nobs=30,alpha=0.05,alternative='two-sided'))"
   ]
  },
  {
   "cell_type": "code",
   "execution_count": null,
   "metadata": {},
   "outputs": [],
   "source": []
  }
 ],
 "metadata": {
  "kernelspec": {
   "display_name": "Python 3",
   "language": "python",
   "name": "python3"
  },
  "language_info": {
   "codemirror_mode": {
    "name": "ipython",
    "version": 3
   },
   "file_extension": ".py",
   "mimetype": "text/x-python",
   "name": "python",
   "nbconvert_exporter": "python",
   "pygments_lexer": "ipython3",
   "version": "3.7.3"
  }
 },
 "nbformat": 4,
 "nbformat_minor": 2
}
